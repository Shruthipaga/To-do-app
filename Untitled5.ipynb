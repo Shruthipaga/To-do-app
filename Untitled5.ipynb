{
  "nbformat": 4,
  "nbformat_minor": 0,
  "metadata": {
    "colab": {
      "provenance": [],
      "authorship_tag": "ABX9TyMIe+upvoqyb/w6rwzCWcSy",
      "include_colab_link": true
    },
    "kernelspec": {
      "name": "python3",
      "display_name": "Python 3"
    },
    "language_info": {
      "name": "python"
    }
  },
  "cells": [
    {
      "cell_type": "markdown",
      "metadata": {
        "id": "view-in-github",
        "colab_type": "text"
      },
      "source": [
        "<a href=\"https://colab.research.google.com/github/Shruthipaga/To-do-app/blob/main/Untitled5.ipynb\" target=\"_parent\"><img src=\"https://colab.research.google.com/assets/colab-badge.svg\" alt=\"Open In Colab\"/></a>"
      ]
    },
    {
      "cell_type": "code",
      "execution_count": 23,
      "metadata": {
        "colab": {
          "base_uri": "https://localhost:8080/"
        },
        "id": "fjdxhp-R1DOS",
        "outputId": "02ed5a31-da99-47ea-c0a6-fcc286ff7f21"
      },
      "outputs": [
        {
          "output_type": "stream",
          "name": "stdout",
          "text": [
            "✅ Dataset after cleaning:\n",
            "<class 'pandas.core.frame.DataFrame'>\n",
            "Index: 297 entries, 0 to 301\n",
            "Data columns (total 14 columns):\n",
            " #   Column    Non-Null Count  Dtype  \n",
            "---  ------    --------------  -----  \n",
            " 0   age       297 non-null    float64\n",
            " 1   sex       297 non-null    float64\n",
            " 2   cp        297 non-null    float64\n",
            " 3   trestbps  297 non-null    float64\n",
            " 4   chol      297 non-null    float64\n",
            " 5   fbs       297 non-null    float64\n",
            " 6   restecg   297 non-null    float64\n",
            " 7   thalach   297 non-null    float64\n",
            " 8   exang     297 non-null    float64\n",
            " 9   oldpeak   297 non-null    float64\n",
            " 10  slope     297 non-null    float64\n",
            " 11  ca        297 non-null    float64\n",
            " 12  thal      297 non-null    float64\n",
            " 13  target    297 non-null    int64  \n",
            "dtypes: float64(13), int64(1)\n",
            "memory usage: 34.8 KB\n",
            "None\n",
            "age         0\n",
            "sex         0\n",
            "cp          0\n",
            "trestbps    0\n",
            "chol        0\n",
            "fbs         0\n",
            "restecg     0\n",
            "thalach     0\n",
            "exang       0\n",
            "oldpeak     0\n",
            "slope       0\n",
            "ca          0\n",
            "thal        0\n",
            "target      0\n",
            "dtype: int64\n",
            "Training Accuracy: 0.85\n",
            "Testing Accuracy: 0.83\n",
            "💖 Good news: The patient does NOT have heart disease.\n"
          ]
        },
        {
          "output_type": "stream",
          "name": "stderr",
          "text": [
            "/usr/local/lib/python3.11/dist-packages/sklearn/utils/validation.py:2739: UserWarning: X does not have valid feature names, but LogisticRegression was fitted with feature names\n",
            "  warnings.warn(\n"
          ]
        }
      ],
      "source": [
        "import pandas as pd\n",
        "import numpy as np\n",
        "from sklearn.model_selection import train_test_split\n",
        "from sklearn.linear_model import LogisticRegression\n",
        "from sklearn.metrics import accuracy_score\n",
        "\n",
        "# 1️⃣ Load dataset from UCI\n",
        "url = \"https://archive.ics.uci.edu/ml/machine-learning-databases/heart-disease/processed.cleveland.data\"\n",
        "columns = [\"age\",\"sex\",\"cp\",\"trestbps\",\"chol\",\"fbs\",\"restecg\",\"thalach\",\"exang\",\n",
        "           \"oldpeak\",\"slope\",\"ca\",\"thal\",\"target\"]\n",
        "\n",
        "df = pd.read_csv(url, header=None, names=columns, na_values='?')\n",
        "\n",
        "# 2️⃣ Handle missing values by dropping rows with NaN\n",
        "df.dropna(inplace=True)\n",
        "\n",
        "# 3️⃣ Convert target to binary: 0 = no disease, 1 = disease\n",
        "df['target'] = df['target'].apply(lambda x: 1 if x > 0 else 0)\n",
        "\n",
        "print(\"✅ Dataset after cleaning:\")\n",
        "print(df.info())\n",
        "print(df.isnull().sum())\n",
        "\n",
        "# 4️⃣ Split features and target\n",
        "X = df.drop('target', axis=1)   # 13 features\n",
        "Y = df['target']\n",
        "\n",
        "X_train, X_test, Y_train, Y_test = train_test_split(\n",
        "    X, Y, test_size=0.2, stratify=Y, random_state=42\n",
        ")\n",
        "\n",
        "# 5️⃣ Train Logistic Regression Model\n",
        "model = LogisticRegression(max_iter=1000)\n",
        "model.fit(X_train, Y_train)\n",
        "\n",
        "# 6️⃣ Evaluate Model\n",
        "X_train_prediction = model.predict(X_train)\n",
        "training_accuracy = accuracy_score(Y_train, X_train_prediction)\n",
        "print(f\"Training Accuracy: {training_accuracy:.2f}\")\n",
        "\n",
        "X_test_prediction = model.predict(X_test)\n",
        "testing_accuracy = accuracy_score(Y_test, X_test_prediction)\n",
        "print(f\"Testing Accuracy: {testing_accuracy:.2f}\")\n",
        "\n",
        "# 7️⃣ Predict for a new patient (must have 13 features)\n",
        "# Features: [age, sex, cp, trestbps, chol, fbs, restecg, thalach, exang, oldpeak, slope, ca, thal]\n",
        "input_data = (51, 1, 3, 125, 213, 0, 0, 125, 1, 1.0, 2, 1, 2)  # ✅ 13 values\n",
        "\n",
        "input_data = np.asarray(input_data).reshape(1, -1)\n",
        "prediction = model.predict(input_data)\n",
        "\n",
        "# 8️⃣ Result\n",
        "if prediction[0] == 0:\n",
        "    print(\"💖 Good news: The patient does NOT have heart disease.\")\n",
        "else:\n",
        "    print(\"❤️‍🩹 Warning: The patient may have heart disease. Consult a doctor.\")\n"
      ]
    },
    {
      "cell_type": "code",
      "source": [
        "\n",
        "\n",
        "%cd /content\n",
        "!rm -rf HeartDiseasePrediction\n",
        "!git clone https://github.com/Shruthipaga/HeartDiseasePrediction.git\n",
        "%cd HeartDiseasePrediction\n",
        "!ls /content/HeartDiseasePrediction.ipynb /content/HeartDiseasePrediction/\n",
        "\n"
      ],
      "metadata": {
        "colab": {
          "base_uri": "https://localhost:8080/"
        },
        "id": "9Yp52NQ9A7bA",
        "outputId": "f08bc093-c96f-4225-9089-43b00dc1e20b"
      },
      "execution_count": 35,
      "outputs": [
        {
          "output_type": "stream",
          "name": "stdout",
          "text": [
            "/content\n",
            "Cloning into 'HeartDiseasePrediction'...\n",
            "warning: You appear to have cloned an empty repository.\n",
            "/content/HeartDiseasePrediction\n",
            "ls: cannot access '/content/HeartDiseasePrediction.ipynb': No such file or directory\n",
            "/content/HeartDiseasePrediction/:\n"
          ]
        }
      ]
    },
    {
      "cell_type": "code",
      "source": [],
      "metadata": {
        "id": "krA4r_WTBdqM"
      },
      "execution_count": null,
      "outputs": []
    }
  ]
}